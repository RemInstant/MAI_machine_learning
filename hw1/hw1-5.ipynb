{
 "cells": [
  {
   "cell_type": "markdown",
   "id": "ec6e7d18-6a6e-4a51-a7cd-0a1152604973",
   "metadata": {
    "id": "ec6e7d18-6a6e-4a51-a7cd-0a1152604973"
   },
   "source": [
    "## Лабораторная работа №1 | Вариант 5"
   ]
  },
  {
   "cell_type": "markdown",
   "id": "277877ce-f982-4711-a6a6-2a4a90871409",
   "metadata": {
    "id": "277877ce-f982-4711-a6a6-2a4a90871409"
   },
   "source": [
    "Выполнил: Бойков П. А. М8О-313Б-22"
   ]
  },
  {
   "cell_type": "markdown",
   "id": "031f025d-84dc-470f-b839-456a76d9636b",
   "metadata": {
    "id": "031f025d-84dc-470f-b839-456a76d9636b"
   },
   "source": [
    "### 1. Numpy"
   ]
  },
  {
   "cell_type": "code",
   "execution_count": 11,
   "id": "8a2c6f8d-e85b-4982-ba6d-77ffdb7d53e8",
   "metadata": {
    "id": "8a2c6f8d-e85b-4982-ba6d-77ffdb7d53e8"
   },
   "outputs": [],
   "source": [
    "import numpy as np"
   ]
  },
  {
   "cell_type": "markdown",
   "id": "6ff3559d-5f3e-4540-9a31-bfb9f42a23da",
   "metadata": {
    "id": "6ff3559d-5f3e-4540-9a31-bfb9f42a23da"
   },
   "source": [
    "1. Создайте единичную матрицу размером 3х3"
   ]
  },
  {
   "cell_type": "code",
   "execution_count": 12,
   "id": "752bc586-1e3f-4085-85c3-4068b781314f",
   "metadata": {
    "colab": {
     "base_uri": "https://localhost:8080/"
    },
    "executionInfo": {
     "elapsed": 19,
     "status": "ok",
     "timestamp": 1744717690145,
     "user": {
      "displayName": "Pavel Boykov",
      "userId": "06328896898340269474"
     },
     "user_tz": -180
    },
    "id": "752bc586-1e3f-4085-85c3-4068b781314f",
    "outputId": "833bdcac-0dc4-4e08-ee3c-6f1e8a7fa73c"
   },
   "outputs": [
    {
     "name": "stdout",
     "output_type": "stream",
     "text": [
      "[[1. 0. 0.]\n",
      " [0. 1. 0.]\n",
      " [0. 0. 1.]]\n"
     ]
    }
   ],
   "source": [
    "identical_matrix = np.eye(3)\n",
    "print(identical_matrix)"
   ]
  },
  {
   "cell_type": "markdown",
   "id": "0243a0f6-1905-4e2d-9572-9ba49dc003a8",
   "metadata": {
    "id": "0243a0f6-1905-4e2d-9572-9ba49dc003a8"
   },
   "source": [
    "2. Создайте кастомный dtype который описывает цвет состоящий из 4х unsigned bytes(RGBA пиксель)"
   ]
  },
  {
   "cell_type": "code",
   "execution_count": 13,
   "id": "ec6ae581-5adf-459c-bdc7-8b015d9529f6",
   "metadata": {
    "id": "ec6ae581-5adf-459c-bdc7-8b015d9529f6"
   },
   "outputs": [],
   "source": [
    "rgba = np.dtype([\n",
    "    ('r', np.uint8),\n",
    "    ('g', np.uint8),\n",
    "    ('b', np.uint8),\n",
    "    ('a', np.uint8)\n",
    "])"
   ]
  },
  {
   "cell_type": "markdown",
   "id": "8c7d3811-a555-4c02-ada8-e4a70b9dee46",
   "metadata": {
    "id": "8c7d3811-a555-4c02-ada8-e4a70b9dee46"
   },
   "source": [
    "3. Как игнорировать все numpy warnings(не рекомендуем к использованию)?"
   ]
  },
  {
   "cell_type": "code",
   "execution_count": 14,
   "id": "12d0ed34-908c-4840-8b81-457e64dd7b0b",
   "metadata": {
    "colab": {
     "base_uri": "https://localhost:8080/"
    },
    "executionInfo": {
     "elapsed": 4,
     "status": "ok",
     "timestamp": 1744717692637,
     "user": {
      "displayName": "Pavel Boykov",
      "userId": "06328896898340269474"
     },
     "user_tz": -180
    },
    "id": "12d0ed34-908c-4840-8b81-457e64dd7b0b",
    "outputId": "70cb67e8-c585-4e4a-8669-fd2c04e38f10"
   },
   "outputs": [
    {
     "data": {
      "text/plain": [
       "{'divide': 'ignore', 'over': 'ignore', 'under': 'ignore', 'invalid': 'ignore'}"
      ]
     },
     "execution_count": 14,
     "metadata": {},
     "output_type": "execute_result"
    }
   ],
   "source": [
    "np.seterr(all=\"ignore\")"
   ]
  },
  {
   "cell_type": "markdown",
   "id": "b7ca56e6-a194-4c42-b8a2-307fcf40f648",
   "metadata": {
    "id": "b7ca56e6-a194-4c42-b8a2-307fcf40f648"
   },
   "source": [
    "4. Создайте случайный вектор размера 10 и отсортируйте его"
   ]
  },
  {
   "cell_type": "code",
   "execution_count": 15,
   "id": "1b1d64cd-0e28-400f-8d49-a1274947e150",
   "metadata": {
    "colab": {
     "base_uri": "https://localhost:8080/"
    },
    "executionInfo": {
     "elapsed": 66,
     "status": "ok",
     "timestamp": 1744717695219,
     "user": {
      "displayName": "Pavel Boykov",
      "userId": "06328896898340269474"
     },
     "user_tz": -180
    },
    "id": "1b1d64cd-0e28-400f-8d49-a1274947e150",
    "outputId": "7816c24a-3d2b-435a-a9d9-5475e5346ed9"
   },
   "outputs": [
    {
     "name": "stdout",
     "output_type": "stream",
     "text": [
      "[6.62261699 2.0492112  0.13151391 1.72317915 8.211563   4.56899238\n",
      " 0.34575067 0.39987805 7.4275052  0.23909889]\n",
      "[0.13151391 0.23909889 0.34575067 0.39987805 1.72317915 2.0492112\n",
      " 4.56899238 6.62261699 7.4275052  8.211563  ]\n"
     ]
    }
   ],
   "source": [
    "import time\n",
    "rng = np.random.default_rng(seed=round(time.time()))\n",
    "data = rng.uniform(low=0, high=10, size=10)\n",
    "print(data)\n",
    "data.sort()\n",
    "print(data)"
   ]
  },
  {
   "cell_type": "markdown",
   "id": "b3b2cd1e-e996-45e0-b9ed-e12ce653a9c3",
   "metadata": {
    "id": "b3b2cd1e-e996-45e0-b9ed-e12ce653a9c3"
   },
   "source": [
    "5. Создайте read-only массив(неизменяемый)"
   ]
  },
  {
   "cell_type": "code",
   "execution_count": 16,
   "id": "c40ef785-d750-42ba-ac6e-b777866202a6",
   "metadata": {
    "colab": {
     "base_uri": "https://localhost:8080/",
     "height": 183
    },
    "executionInfo": {
     "elapsed": 9,
     "status": "error",
     "timestamp": 1744717696437,
     "user": {
      "displayName": "Pavel Boykov",
      "userId": "06328896898340269474"
     },
     "user_tz": -180
    },
    "id": "c40ef785-d750-42ba-ac6e-b777866202a6",
    "outputId": "b9717bff-254b-4740-e88e-a0d4c6c46cfa"
   },
   "outputs": [
    {
     "name": "stdout",
     "output_type": "stream",
     "text": [
      "ValueError: assignment destination is read-only\n"
     ]
    }
   ],
   "source": [
    "data = np.array([1, 2, 3])\n",
    "data.setflags(write=False)\n",
    "try:\n",
    "    data[0] = 2\n",
    "except ValueError as e:\n",
    "    print(\"ValueError:\", e)\n"
   ]
  },
  {
   "cell_type": "markdown",
   "id": "8108b3a8-5ba8-472d-ad6b-095ade8678ef",
   "metadata": {
    "id": "8108b3a8-5ba8-472d-ad6b-095ade8678ef"
   },
   "source": [
    "6. Рассмотрим случайную матрицу размером 10х2, представляющую декартовы координаты, преобразуем их в полярные координаты"
   ]
  },
  {
   "cell_type": "code",
   "execution_count": 17,
   "id": "89b58c0a-bd5d-435a-be45-719fdfce662a",
   "metadata": {
    "colab": {
     "base_uri": "https://localhost:8080/"
    },
    "executionInfo": {
     "elapsed": 13,
     "status": "ok",
     "timestamp": 1744717698897,
     "user": {
      "displayName": "Pavel Boykov",
      "userId": "06328896898340269474"
     },
     "user_tz": -180
    },
    "id": "89b58c0a-bd5d-435a-be45-719fdfce662a",
    "outputId": "5bacd260-af1f-4bff-c70c-2d742cdbaba5"
   },
   "outputs": [
    {
     "name": "stdout",
     "output_type": "stream",
     "text": [
      "[[-7.20744481e+00 -9.00370810e+00]\n",
      " [-6.66127832e+00  8.93912040e+00]\n",
      " [-4.19967383e+00 -3.98744917e+00]\n",
      " [ 8.73200409e+00 -4.38093535e+00]\n",
      " [-3.85068978e+00  4.41120068e+00]\n",
      " [-8.05945345e+00 -4.38731161e+00]\n",
      " [ 7.75621521e-03  9.54659073e+00]\n",
      " [ 4.92673249e+00 -2.09850649e+00]\n",
      " [-7.73125051e-01  5.56496676e+00]\n",
      " [-9.79141577e+00 -7.35505307e+00]]\n",
      "[[11.53317043 -2.24584048]\n",
      " [11.14811654  2.21120726]\n",
      " [ 5.79111485 -2.38211045]\n",
      " [ 9.76936487 -0.46501482]\n",
      " [ 5.8554678   2.28845535]\n",
      " [ 9.17623523 -2.64308342]\n",
      " [ 9.54659388  1.56998387]\n",
      " [ 5.35503712 -0.40266898]\n",
      " [ 5.61841413  1.7088399 ]\n",
      " [12.24616791 -2.49734086]]\n"
     ]
    }
   ],
   "source": [
    "cartesian_coords = rng.uniform(low=-10, high=10, size=(10, 2))\n",
    "print(cartesian_coords)\n",
    "\n",
    "x = cartesian_coords[:, 0]\n",
    "y = cartesian_coords[:, 1]\n",
    "\n",
    "r = np.sqrt(x**2 + y**2)\n",
    "angle = np.arctan2(y, x)\n",
    "\n",
    "polar_coords = np.column_stack((r, angle))\n",
    "print(polar_coords)"
   ]
  },
  {
   "cell_type": "markdown",
   "id": "98511652-db85-4506-a5b8-f94b05d35ce9",
   "metadata": {
    "id": "98511652-db85-4506-a5b8-f94b05d35ce9"
   },
   "source": [
    "7. Создайте структурированный массив с координатами x и y, охватывающий область [0,1]x[0,1]"
   ]
  },
  {
   "cell_type": "code",
   "execution_count": null,
   "id": "ca72cdb0-ed24-460d-81a9-220b850d62c3",
   "metadata": {
    "colab": {
     "base_uri": "https://localhost:8080/"
    },
    "executionInfo": {
     "elapsed": 157,
     "status": "ok",
     "timestamp": 1744717701203,
     "user": {
      "displayName": "Pavel Boykov",
      "userId": "06328896898340269474"
     },
     "user_tz": -180
    },
    "id": "ca72cdb0-ed24-460d-81a9-220b850d62c3",
    "outputId": "2b5b2392-5a1e-402c-c6b5-aa5b19824f0c"
   },
   "outputs": [
    {
     "name": "stdout",
     "output_type": "stream",
     "text": [
      "[(0. , 0. ) (0.1, 0. ) (0.2, 0. ) (0.3, 0. ) (0.4, 0. ) (0.5, 0. )\n",
      " (0.6, 0. ) (0.7, 0. ) (0.8, 0. ) (0.9, 0. ) (1. , 0. ) (0. , 0.1)\n",
      " (0.1, 0.1) (0.2, 0.1) (0.3, 0.1) (0.4, 0.1) (0.5, 0.1) (0.6, 0.1)\n",
      " (0.7, 0.1) (0.8, 0.1) (0.9, 0.1) (1. , 0.1) (0. , 0.2) (0.1, 0.2)\n",
      " (0.2, 0.2) (0.3, 0.2) (0.4, 0.2) (0.5, 0.2) (0.6, 0.2) (0.7, 0.2)\n",
      " (0.8, 0.2) (0.9, 0.2) (1. , 0.2) (0. , 0.3) (0.1, 0.3) (0.2, 0.3)\n",
      " (0.3, 0.3) (0.4, 0.3) (0.5, 0.3) (0.6, 0.3) (0.7, 0.3) (0.8, 0.3)\n",
      " (0.9, 0.3) (1. , 0.3) (0. , 0.4) (0.1, 0.4) (0.2, 0.4) (0.3, 0.4)\n",
      " (0.4, 0.4) (0.5, 0.4) (0.6, 0.4) (0.7, 0.4) (0.8, 0.4) (0.9, 0.4)\n",
      " (1. , 0.4) (0. , 0.5) (0.1, 0.5) (0.2, 0.5) (0.3, 0.5) (0.4, 0.5)\n",
      " (0.5, 0.5) (0.6, 0.5) (0.7, 0.5) (0.8, 0.5) (0.9, 0.5) (1. , 0.5)\n",
      " (0. , 0.6) (0.1, 0.6) (0.2, 0.6) (0.3, 0.6) (0.4, 0.6) (0.5, 0.6)\n",
      " (0.6, 0.6) (0.7, 0.6) (0.8, 0.6) (0.9, 0.6) (1. , 0.6) (0. , 0.7)\n",
      " (0.1, 0.7) (0.2, 0.7) (0.3, 0.7) (0.4, 0.7) (0.5, 0.7) (0.6, 0.7)\n",
      " (0.7, 0.7) (0.8, 0.7) (0.9, 0.7) (1. , 0.7) (0. , 0.8) (0.1, 0.8)\n",
      " (0.2, 0.8) (0.3, 0.8) (0.4, 0.8) (0.5, 0.8) (0.6, 0.8) (0.7, 0.8)\n",
      " (0.8, 0.8) (0.9, 0.8) (1. , 0.8) (0. , 0.9) (0.1, 0.9) (0.2, 0.9)\n",
      " (0.3, 0.9) (0.4, 0.9) (0.5, 0.9) (0.6, 0.9) (0.7, 0.9) (0.8, 0.9)\n",
      " (0.9, 0.9) (1. , 0.9) (0. , 1. ) (0.1, 1. ) (0.2, 1. ) (0.3, 1. )\n",
      " (0.4, 1. ) (0.5, 1. ) (0.6, 1. ) (0.7, 1. ) (0.8, 1. ) (0.9, 1. )\n",
      " (1. , 1. )]\n"
     ]
    }
   ],
   "source": [
    "from numpy.lib.recfunctions import unstructured_to_structured\n",
    "\n",
    "point2D = np.dtype([\n",
    "    ('x', np.float64),\n",
    "    ('y', np.float64),\n",
    "])\n",
    "\n",
    "x = np.linspace(0, 1, 11)\n",
    "y = np.linspace(0, 1, 11)\n",
    "\n",
    "xx, yy = np.meshgrid(x, y)\n",
    "data = unstructured_to_structured(np.column_stack((xx.ravel(), yy.ravel())), point2D)\n",
    "print(data)"
   ]
  },
  {
   "cell_type": "markdown",
   "id": "1412a70a-2a1e-406e-a227-afc9a47ed659",
   "metadata": {
    "id": "1412a70a-2a1e-406e-a227-afc9a47ed659"
   },
   "source": [
    "8. Учитывая два массива X и Y, постройте матрицу Коши $C$ ($C_{ij} =\\frac{1}{x_i - y_j}$)"
   ]
  },
  {
   "cell_type": "code",
   "execution_count": 19,
   "id": "22bb8bbf-52dd-4d3c-86c0-c4e9637b909b",
   "metadata": {
    "colab": {
     "base_uri": "https://localhost:8080/"
    },
    "executionInfo": {
     "elapsed": 44,
     "status": "ok",
     "timestamp": 1744717737314,
     "user": {
      "displayName": "Pavel Boykov",
      "userId": "06328896898340269474"
     },
     "user_tz": -180
    },
    "id": "22bb8bbf-52dd-4d3c-86c0-c4e9637b909b",
    "outputId": "982f58fc-4c4c-4c0f-fc14-136320a911d0"
   },
   "outputs": [
    {
     "name": "stdout",
     "output_type": "stream",
     "text": [
      "[[-3.04370581 -2.48777756  0.84694107 11.9388565  -2.24647267]\n",
      " [-2.86402317 -2.36642971  0.86198918 15.83586617 -2.14705333]\n",
      " [ 5.75623297  9.96945436  0.59418014  1.70639231 17.50415386]\n",
      " [-0.56286217 -0.54052528 -3.74017281 -0.73296217 -0.52819803]\n",
      " [-1.38794128 -1.25958876  1.26778869 -3.24480852 -1.19461895]]\n"
     ]
    }
   ],
   "source": [
    "x = np.random.normal(size=(5))\n",
    "y = np.random.normal(size=(5))\n",
    "res = 1 / (x.reshape(-1,1) - y)\n",
    "print(res)"
   ]
  },
  {
   "cell_type": "markdown",
   "id": "f7dc66bf-f7c8-4d78-834b-451651f6839a",
   "metadata": {
    "id": "f7dc66bf-f7c8-4d78-834b-451651f6839a"
   },
   "source": [
    "9. Как конвертировать массив float(32 bit) к массиву целых чисел (integer 32 bit) in place?"
   ]
  },
  {
   "cell_type": "code",
   "execution_count": 20,
   "id": "0ecf5586-d30e-4256-ab93-7ff9bab0b34b",
   "metadata": {
    "colab": {
     "base_uri": "https://localhost:8080/"
    },
    "executionInfo": {
     "elapsed": 7,
     "status": "ok",
     "timestamp": 1744717738825,
     "user": {
      "displayName": "Pavel Boykov",
      "userId": "06328896898340269474"
     },
     "user_tz": -180
    },
    "id": "0ecf5586-d30e-4256-ab93-7ff9bab0b34b",
    "outputId": "e3ab9363-e918-481d-d2a0-0a1e2f5e9eee"
   },
   "outputs": [
    {
     "name": "stdout",
     "output_type": "stream",
     "text": [
      "[1 2 3]\n",
      "[0.5 2.5 3.5]\n"
     ]
    }
   ],
   "source": [
    "inp = np.array([1.5, 2.5, 3.5], dtype=np.float32)\n",
    "\n",
    "data = inp.astype(np.int32, copy=False)\n",
    "check = inp.astype(np.float32, copy=False)\n",
    "\n",
    "inp[0] = 0.5\n",
    "\n",
    "print(data)\n",
    "print(check)"
   ]
  },
  {
   "cell_type": "markdown",
   "id": "Nmo9tsEOvsid",
   "metadata": {
    "id": "Nmo9tsEOvsid"
   },
   "source": [
    "Согласно документации, если конечный тип отличается от исходного, данные копируются. Следовательно, in-place конвертация типа невозможна\n",
    "\n"
   ]
  },
  {
   "cell_type": "markdown",
   "id": "a66194f1-0099-4808-8ebf-5cf10eee5071",
   "metadata": {
    "id": "a66194f1-0099-4808-8ebf-5cf10eee5071"
   },
   "source": [
    "10. Как случайно заменить p элементов в 2D массиве?"
   ]
  },
  {
   "cell_type": "code",
   "execution_count": 21,
   "id": "07ed452c-3f7c-40a7-a5b5-716602a5eed9",
   "metadata": {
    "colab": {
     "base_uri": "https://localhost:8080/"
    },
    "executionInfo": {
     "elapsed": 13,
     "status": "ok",
     "timestamp": 1744717746598,
     "user": {
      "displayName": "Pavel Boykov",
      "userId": "06328896898340269474"
     },
     "user_tz": -180
    },
    "id": "07ed452c-3f7c-40a7-a5b5-716602a5eed9",
    "outputId": "703e3b5a-e6b0-48ab-93c9-f4f06d38598e"
   },
   "outputs": [
    {
     "name": "stdout",
     "output_type": "stream",
     "text": [
      "[[0. 2. 0. 0. 0.]\n",
      " [6. 0. 0. 0. 4.]\n",
      " [0. 0. 0. 0. 0.]]\n"
     ]
    }
   ],
   "source": [
    "n = 3\n",
    "m = 5\n",
    "\n",
    "data = np.zeros([n, m])\n",
    "xx, yy = np.meshgrid(np.arange(0,n), np.arange(0,m))\n",
    "indices = np.column_stack((xx.ravel(), yy.ravel()))\n",
    "\n",
    "to_replace_cnt = rng.choice(n*m)\n",
    "values = rng.choice(9, to_replace_cnt) + 1\n",
    "indices = rng.permutation(indices)[0:to_replace_cnt]\n",
    "data[indices[:,0], indices[:,1]] = values\n",
    "\n",
    "print(data)"
   ]
  },
  {
   "cell_type": "markdown",
   "id": "5bd0f757-bb01-4afb-b4f0-6821b5c5b2b7",
   "metadata": {
    "id": "5bd0f757-bb01-4afb-b4f0-6821b5c5b2b7"
   },
   "source": [
    "### 2. Pandas"
   ]
  },
  {
   "cell_type": "markdown",
   "id": "bdffd013-e573-4318-8062-65ae1c5e07e8",
   "metadata": {
    "id": "bdffd013-e573-4318-8062-65ae1c5e07e8"
   },
   "source": [
    "Найдите ответы на вопросы или выполните действия с предложенным датасетом\n",
    "\n",
    "Классический начальный набор данных - данные пассажиров титаника.\n",
    "\n",
    "Файл: `data.csv`\n",
    "\n",
    "```\n",
    "PassangerId - уникальный номер пассажира\n",
    "Survived - выжил человек или нет\n",
    "Pclass - класс обслуживания\n",
    "Name - имя человека, обращение к ней/нему\n",
    "Sex - пол человека\n",
    "Age - возраст на момент крушения\n",
    "SibSp - количество братьев и сестер / супругов на борту \"Титаника\"\n",
    "Parch - количество родителей / детей на борту \"Титаника\"\n",
    "Ticket - номер билета\n",
    "Fare - стоимость проезда для пассажиров\n",
    "Cabin - каюта\n",
    "Embarked - причал отбытия. C = Cherbourg Q = Queenstown S = Southampton\n",
    "```"
   ]
  },
  {
   "cell_type": "code",
   "execution_count": 22,
   "id": "0778ec2b-a7b2-4738-b771-bb1781986f62",
   "metadata": {
    "id": "0778ec2b-a7b2-4738-b771-bb1781986f62"
   },
   "outputs": [],
   "source": [
    "import pandas as pd"
   ]
  },
  {
   "cell_type": "code",
   "execution_count": 23,
   "id": "bfc45614-d44b-49bd-a55c-c410a95a808f",
   "metadata": {
    "colab": {
     "base_uri": "https://localhost:8080/"
    },
    "executionInfo": {
     "elapsed": 4725,
     "status": "ok",
     "timestamp": 1744717757058,
     "user": {
      "displayName": "Pavel Boykov",
      "userId": "06328896898340269474"
     },
     "user_tz": -180
    },
    "id": "bfc45614-d44b-49bd-a55c-c410a95a808f",
    "outputId": "55c868d1-c6f0-4e56-8a6f-38bd4efc757d"
   },
   "outputs": [
    {
     "name": "stdout",
     "output_type": "stream",
     "text": [
      "/bin/bash: line 1: gdown: command not found\n"
     ]
    }
   ],
   "source": [
    "!gdown \"1buHHCUE-gUeVBlc6xuVkaFXh74A3-8zQ\" # download data to google colab environment\n",
    "df = pd.read_csv('data.csv')"
   ]
  },
  {
   "cell_type": "markdown",
   "id": "1026e8c6-513a-41e3-b2f4-68aae18b8435",
   "metadata": {
    "id": "1026e8c6-513a-41e3-b2f4-68aae18b8435"
   },
   "source": [
    "1. Узнайте сколько было на борту человек"
   ]
  },
  {
   "cell_type": "code",
   "execution_count": 24,
   "id": "e74655aa-b97c-42e5-b972-e0753ddc2331",
   "metadata": {
    "colab": {
     "base_uri": "https://localhost:8080/"
    },
    "executionInfo": {
     "elapsed": 6,
     "status": "ok",
     "timestamp": 1744717757117,
     "user": {
      "displayName": "Pavel Boykov",
      "userId": "06328896898340269474"
     },
     "user_tz": -180
    },
    "id": "e74655aa-b97c-42e5-b972-e0753ddc2331",
    "outputId": "617c4bc8-be7c-4f69-c05c-21fae491cc4b"
   },
   "outputs": [
    {
     "data": {
      "text/plain": [
       "891"
      ]
     },
     "execution_count": 24,
     "metadata": {},
     "output_type": "execute_result"
    }
   ],
   "source": [
    "df['PassengerId'].count()"
   ]
  },
  {
   "cell_type": "markdown",
   "id": "eee028a5-9311-4a4f-b4ac-1fb75acfb4b3",
   "metadata": {
    "id": "eee028a5-9311-4a4f-b4ac-1fb75acfb4b3"
   },
   "source": [
    "2. Какой медианный и средний возраста пассажиров"
   ]
  },
  {
   "cell_type": "code",
   "execution_count": 25,
   "id": "ac0fb641-96d2-4e7c-88d5-636ce3b699d2",
   "metadata": {
    "colab": {
     "base_uri": "https://localhost:8080/",
     "height": 147
    },
    "executionInfo": {
     "elapsed": 10,
     "status": "ok",
     "timestamp": 1744717757126,
     "user": {
      "displayName": "Pavel Boykov",
      "userId": "06328896898340269474"
     },
     "user_tz": -180
    },
    "id": "ac0fb641-96d2-4e7c-88d5-636ce3b699d2",
    "outputId": "01567121-f2d9-47a4-c265-9c8babfc4504"
   },
   "outputs": [
    {
     "data": {
      "text/plain": [
       "median    28.000000\n",
       "mean      29.699118\n",
       "Name: Age, dtype: float64"
      ]
     },
     "execution_count": 25,
     "metadata": {},
     "output_type": "execute_result"
    }
   ],
   "source": [
    "df['Age'].aggregate(['median', 'mean'])"
   ]
  },
  {
   "cell_type": "markdown",
   "id": "cd7979ba-2fa8-4fd3-986d-26cee122da1f",
   "metadata": {
    "id": "cd7979ba-2fa8-4fd3-986d-26cee122da1f"
   },
   "source": [
    "3. Посчитайте процент выживаемости детей(до 16 лет) и взрослых"
   ]
  },
  {
   "cell_type": "code",
   "execution_count": null,
   "id": "3915f77b-116c-482b-8644-2f5f11931af9",
   "metadata": {
    "colab": {
     "base_uri": "https://localhost:8080/",
     "height": 143
    },
    "executionInfo": {
     "elapsed": 5,
     "status": "ok",
     "timestamp": 1744717760532,
     "user": {
      "displayName": "Pavel Boykov",
      "userId": "06328896898340269474"
     },
     "user_tz": -180
    },
    "id": "3915f77b-116c-482b-8644-2f5f11931af9",
    "outputId": "07cacd0d-7995-45dc-cb6d-f79192452c1b"
   },
   "outputs": [
    {
     "data": {
      "text/html": [
       "<div>\n",
       "<style scoped>\n",
       "    .dataframe tbody tr th:only-of-type {\n",
       "        vertical-align: middle;\n",
       "    }\n",
       "\n",
       "    .dataframe tbody tr th {\n",
       "        vertical-align: top;\n",
       "    }\n",
       "\n",
       "    .dataframe thead th {\n",
       "        text-align: right;\n",
       "    }\n",
       "</style>\n",
       "<table border=\"1\" class=\"dataframe\">\n",
       "  <thead>\n",
       "    <tr style=\"text-align: right;\">\n",
       "      <th></th>\n",
       "      <th>survival_rate</th>\n",
       "    </tr>\n",
       "    <tr>\n",
       "      <th>Maturity</th>\n",
       "      <th></th>\n",
       "    </tr>\n",
       "  </thead>\n",
       "  <tbody>\n",
       "    <tr>\n",
       "      <th>adult</th>\n",
       "      <td>0.381933</td>\n",
       "    </tr>\n",
       "    <tr>\n",
       "      <th>child</th>\n",
       "      <td>0.590361</td>\n",
       "    </tr>\n",
       "    <tr>\n",
       "      <th>nan</th>\n",
       "      <td>0.293785</td>\n",
       "    </tr>\n",
       "  </tbody>\n",
       "</table>\n",
       "</div>"
      ],
      "text/plain": [
       "          survival_rate\n",
       "Maturity               \n",
       "adult          0.381933\n",
       "child          0.590361\n",
       "nan            0.293785"
      ]
     },
     "execution_count": 26,
     "metadata": {},
     "output_type": "execute_result"
    }
   ],
   "source": [
    "df2 = df.copy(True)\n",
    "df2.loc[df2['Age']  < 16, 'Maturity'] = 'child'\n",
    "df2.loc[df2['Age'] >= 16, 'Maturity'] = 'adult'\n",
    "df2.groupby('Maturity').agg(survival_rate=('Survived', 'mean'))"
   ]
  },
  {
   "cell_type": "markdown",
   "id": "1b69ba67-61a8-4765-9795-cfab1a09e929",
   "metadata": {
    "id": "1b69ba67-61a8-4765-9795-cfab1a09e929"
   },
   "source": [
    "4. Верна ли гипотеза, что женщины и дети сажались в шлюпки первыми и выживали больше?"
   ]
  },
  {
   "cell_type": "code",
   "execution_count": null,
   "id": "1228d2e9-fc56-4240-95c6-c98a8b84c016",
   "metadata": {
    "colab": {
     "base_uri": "https://localhost:8080/",
     "height": 143
    },
    "executionInfo": {
     "elapsed": 3,
     "status": "ok",
     "timestamp": 1744717761961,
     "user": {
      "displayName": "Pavel Boykov",
      "userId": "06328896898340269474"
     },
     "user_tz": -180
    },
    "id": "1228d2e9-fc56-4240-95c6-c98a8b84c016",
    "outputId": "c5969e59-815f-401a-dbbb-2a3153ae3601"
   },
   "outputs": [
    {
     "data": {
      "text/html": [
       "<div>\n",
       "<style scoped>\n",
       "    .dataframe tbody tr th:only-of-type {\n",
       "        vertical-align: middle;\n",
       "    }\n",
       "\n",
       "    .dataframe tbody tr th {\n",
       "        vertical-align: top;\n",
       "    }\n",
       "\n",
       "    .dataframe thead th {\n",
       "        text-align: right;\n",
       "    }\n",
       "</style>\n",
       "<table border=\"1\" class=\"dataframe\">\n",
       "  <thead>\n",
       "    <tr style=\"text-align: right;\">\n",
       "      <th></th>\n",
       "      <th>survivors_cnt</th>\n",
       "      <th>survival_rate</th>\n",
       "    </tr>\n",
       "    <tr>\n",
       "      <th>Class</th>\n",
       "      <th></th>\n",
       "      <th></th>\n",
       "    </tr>\n",
       "  </thead>\n",
       "  <tbody>\n",
       "    <tr>\n",
       "      <th>adultMale</th>\n",
       "      <td>72</td>\n",
       "      <td>0.174334</td>\n",
       "    </tr>\n",
       "    <tr>\n",
       "      <th>childOrFemale</th>\n",
       "      <td>254</td>\n",
       "      <td>0.717514</td>\n",
       "    </tr>\n",
       "    <tr>\n",
       "      <th>nan</th>\n",
       "      <td>16</td>\n",
       "      <td>0.129032</td>\n",
       "    </tr>\n",
       "  </tbody>\n",
       "</table>\n",
       "</div>"
      ],
      "text/plain": [
       "               survivors_cnt  survival_rate\n",
       "Class                                      \n",
       "adultMale                 72       0.174334\n",
       "childOrFemale            254       0.717514\n",
       "nan                       16       0.129032"
      ]
     },
     "execution_count": 27,
     "metadata": {},
     "output_type": "execute_result"
    }
   ],
   "source": [
    "df2 = df.copy(True)\n",
    "df2.loc[(df2['Sex'] == 'female') | (df2['Age']  < 16), 'Class'] = 'childOrFemale'\n",
    "df2.loc[(df2['Sex'] ==   'male') & (df2['Age'] >= 16), 'Class'] = 'adultMale'\n",
    "df2.groupby('Class').agg(survivors_cnt=('Survived', 'sum'), survival_rate=('Survived', 'mean'))"
   ]
  },
  {
   "cell_type": "markdown",
   "id": "MeOVO6ZkvWFX",
   "metadata": {
    "id": "MeOVO6ZkvWFX"
   },
   "source": [
    "Процент выживаемости у женщин и детей выше, значит, гипотеза верна."
   ]
  },
  {
   "cell_type": "markdown",
   "id": "5acec4fd-f740-49a8-a5d8-562d358239c9",
   "metadata": {
    "id": "5acec4fd-f740-49a8-a5d8-562d358239c9"
   },
   "source": [
    "5. Зависит ли выживаемость от класса обслуживания?"
   ]
  },
  {
   "cell_type": "code",
   "execution_count": 28,
   "id": "cac8daef-f4e8-4c8b-b7f4-d41a6adf35ed",
   "metadata": {
    "colab": {
     "base_uri": "https://localhost:8080/",
     "height": 175
    },
    "executionInfo": {
     "elapsed": 6,
     "status": "ok",
     "timestamp": 1744717763223,
     "user": {
      "displayName": "Pavel Boykov",
      "userId": "06328896898340269474"
     },
     "user_tz": -180
    },
    "id": "cac8daef-f4e8-4c8b-b7f4-d41a6adf35ed",
    "outputId": "c6bfaf43-2ef3-4e4c-a4d1-588ff4f733ec"
   },
   "outputs": [
    {
     "data": {
      "text/html": [
       "<div>\n",
       "<style scoped>\n",
       "    .dataframe tbody tr th:only-of-type {\n",
       "        vertical-align: middle;\n",
       "    }\n",
       "\n",
       "    .dataframe tbody tr th {\n",
       "        vertical-align: top;\n",
       "    }\n",
       "\n",
       "    .dataframe thead th {\n",
       "        text-align: right;\n",
       "    }\n",
       "</style>\n",
       "<table border=\"1\" class=\"dataframe\">\n",
       "  <thead>\n",
       "    <tr style=\"text-align: right;\">\n",
       "      <th></th>\n",
       "      <th>survivors_cnt</th>\n",
       "      <th>survival_rate</th>\n",
       "    </tr>\n",
       "    <tr>\n",
       "      <th>Pclass</th>\n",
       "      <th></th>\n",
       "      <th></th>\n",
       "    </tr>\n",
       "  </thead>\n",
       "  <tbody>\n",
       "    <tr>\n",
       "      <th>1</th>\n",
       "      <td>136</td>\n",
       "      <td>0.629630</td>\n",
       "    </tr>\n",
       "    <tr>\n",
       "      <th>2</th>\n",
       "      <td>87</td>\n",
       "      <td>0.472826</td>\n",
       "    </tr>\n",
       "    <tr>\n",
       "      <th>3</th>\n",
       "      <td>119</td>\n",
       "      <td>0.242363</td>\n",
       "    </tr>\n",
       "  </tbody>\n",
       "</table>\n",
       "</div>"
      ],
      "text/plain": [
       "        survivors_cnt  survival_rate\n",
       "Pclass                              \n",
       "1                 136       0.629630\n",
       "2                  87       0.472826\n",
       "3                 119       0.242363"
      ]
     },
     "execution_count": 28,
     "metadata": {},
     "output_type": "execute_result"
    }
   ],
   "source": [
    "df.groupby('Pclass').agg(survivors_cnt=('Survived', 'sum'), survival_rate=('Survived', 'mean'))"
   ]
  },
  {
   "cell_type": "markdown",
   "id": "F-8rRXbXve60",
   "metadata": {
    "id": "F-8rRXbXve60"
   },
   "source": [
    "Чем выше класс обслуживания пассажира, тем больше вероятность, что он выжил."
   ]
  },
  {
   "cell_type": "markdown",
   "id": "8d6171a9-0f75-4f3e-ac54-95d03d1f70b6",
   "metadata": {
    "id": "8d6171a9-0f75-4f3e-ac54-95d03d1f70b6"
   },
   "source": [
    "6. Посчитайте средний возраст умерших женщин и мужчин"
   ]
  },
  {
   "cell_type": "code",
   "execution_count": 29,
   "id": "c64d0892-2fb8-4304-966c-5cbb32b03c0a",
   "metadata": {
    "colab": {
     "base_uri": "https://localhost:8080/",
     "height": 143
    },
    "executionInfo": {
     "elapsed": 34,
     "status": "ok",
     "timestamp": 1744717764551,
     "user": {
      "displayName": "Pavel Boykov",
      "userId": "06328896898340269474"
     },
     "user_tz": -180
    },
    "id": "c64d0892-2fb8-4304-966c-5cbb32b03c0a",
    "outputId": "21ace1ee-6195-4f38-a1a7-153c4d7415d4"
   },
   "outputs": [
    {
     "data": {
      "text/html": [
       "<div>\n",
       "<style scoped>\n",
       "    .dataframe tbody tr th:only-of-type {\n",
       "        vertical-align: middle;\n",
       "    }\n",
       "\n",
       "    .dataframe tbody tr th {\n",
       "        vertical-align: top;\n",
       "    }\n",
       "\n",
       "    .dataframe thead th {\n",
       "        text-align: right;\n",
       "    }\n",
       "</style>\n",
       "<table border=\"1\" class=\"dataframe\">\n",
       "  <thead>\n",
       "    <tr style=\"text-align: right;\">\n",
       "      <th></th>\n",
       "      <th>deceased_mean_age</th>\n",
       "    </tr>\n",
       "    <tr>\n",
       "      <th>Sex</th>\n",
       "      <th></th>\n",
       "    </tr>\n",
       "  </thead>\n",
       "  <tbody>\n",
       "    <tr>\n",
       "      <th>female</th>\n",
       "      <td>25.046875</td>\n",
       "    </tr>\n",
       "    <tr>\n",
       "      <th>male</th>\n",
       "      <td>31.618056</td>\n",
       "    </tr>\n",
       "  </tbody>\n",
       "</table>\n",
       "</div>"
      ],
      "text/plain": [
       "        deceased_mean_age\n",
       "Sex                      \n",
       "female          25.046875\n",
       "male            31.618056"
      ]
     },
     "execution_count": 29,
     "metadata": {},
     "output_type": "execute_result"
    }
   ],
   "source": [
    "df[df['Survived'] == False].groupby('Sex').agg(deceased_mean_age=('Age', 'mean'))"
   ]
  },
  {
   "cell_type": "markdown",
   "id": "d29320f9-aef8-452c-9d61-0afa72dd93b6",
   "metadata": {
    "id": "d29320f9-aef8-452c-9d61-0afa72dd93b6"
   },
   "source": [
    "7. Различается ли процент выживаемости пассажиров с хотя бы одним родственником на борту и одиночек?"
   ]
  },
  {
   "cell_type": "code",
   "execution_count": null,
   "id": "d04e1904-f9f3-40bd-abbd-4d53ee9f7bd2",
   "metadata": {
    "colab": {
     "base_uri": "https://localhost:8080/",
     "height": 143
    },
    "executionInfo": {
     "elapsed": 24,
     "status": "ok",
     "timestamp": 1744717765670,
     "user": {
      "displayName": "Pavel Boykov",
      "userId": "06328896898340269474"
     },
     "user_tz": -180
    },
    "id": "d04e1904-f9f3-40bd-abbd-4d53ee9f7bd2",
    "outputId": "aefddde9-640f-488d-eeb7-2015bd643616"
   },
   "outputs": [
    {
     "name": "stderr",
     "output_type": "stream",
     "text": [
      "/tmp/ipykernel_37252/3007152781.py:2: FutureWarning: Setting an item of incompatible dtype is deprecated and will raise in a future error of pandas. Value 'True' has dtype incompatible with float64, please explicitly cast to a compatible dtype first.\n",
      "  df2.loc[(df2['SibSp'] + df2['Parch']  > 0), 'WithRelatives'] = True\n"
     ]
    },
    {
     "data": {
      "text/html": [
       "<div>\n",
       "<style scoped>\n",
       "    .dataframe tbody tr th:only-of-type {\n",
       "        vertical-align: middle;\n",
       "    }\n",
       "\n",
       "    .dataframe tbody tr th {\n",
       "        vertical-align: top;\n",
       "    }\n",
       "\n",
       "    .dataframe thead th {\n",
       "        text-align: right;\n",
       "    }\n",
       "</style>\n",
       "<table border=\"1\" class=\"dataframe\">\n",
       "  <thead>\n",
       "    <tr style=\"text-align: right;\">\n",
       "      <th></th>\n",
       "      <th>survivors_cnt</th>\n",
       "      <th>survival_rate</th>\n",
       "    </tr>\n",
       "    <tr>\n",
       "      <th>WithRelatives</th>\n",
       "      <th></th>\n",
       "      <th></th>\n",
       "    </tr>\n",
       "  </thead>\n",
       "  <tbody>\n",
       "    <tr>\n",
       "      <th>False</th>\n",
       "      <td>163</td>\n",
       "      <td>0.303538</td>\n",
       "    </tr>\n",
       "    <tr>\n",
       "      <th>True</th>\n",
       "      <td>179</td>\n",
       "      <td>0.505650</td>\n",
       "    </tr>\n",
       "  </tbody>\n",
       "</table>\n",
       "</div>"
      ],
      "text/plain": [
       "               survivors_cnt  survival_rate\n",
       "WithRelatives                              \n",
       "False                    163       0.303538\n",
       "True                     179       0.505650"
      ]
     },
     "execution_count": 30,
     "metadata": {},
     "output_type": "execute_result"
    }
   ],
   "source": [
    "df2 = df.copy(True)\n",
    "df2.loc[(df2['SibSp'] + df2['Parch']  > 0), 'WithRelatives'] = True\n",
    "df2.loc[(df2['SibSp'] + df2['Parch'] == 0), 'WithRelatives'] = False\n",
    "df2.groupby('WithRelatives').agg(survivors_cnt=('Survived', 'sum'), survival_rate=('Survived', 'mean'))"
   ]
  },
  {
   "cell_type": "markdown",
   "id": "WuNbbNMPv28l",
   "metadata": {
    "id": "WuNbbNMPv28l"
   },
   "source": [
    "Люди имеющие родственников на борту выживали чаще."
   ]
  },
  {
   "cell_type": "markdown",
   "id": "1d447d6e-cfde-411c-9078-cd8f41f02d8b",
   "metadata": {
    "id": "1d447d6e-cfde-411c-9078-cd8f41f02d8b"
   },
   "source": [
    "8. Различается ли средняя стоимость билета у умерших и выживших пассажиров?"
   ]
  },
  {
   "cell_type": "code",
   "execution_count": 31,
   "id": "b30df6b1-5eca-43da-a115-1c1a3cbfd899",
   "metadata": {
    "colab": {
     "base_uri": "https://localhost:8080/",
     "height": 143
    },
    "executionInfo": {
     "elapsed": 16,
     "status": "ok",
     "timestamp": 1744717767167,
     "user": {
      "displayName": "Pavel Boykov",
      "userId": "06328896898340269474"
     },
     "user_tz": -180
    },
    "id": "b30df6b1-5eca-43da-a115-1c1a3cbfd899",
    "outputId": "4adf2768-30b1-4615-9218-c1e4854bb9f7"
   },
   "outputs": [
    {
     "data": {
      "text/html": [
       "<div>\n",
       "<style scoped>\n",
       "    .dataframe tbody tr th:only-of-type {\n",
       "        vertical-align: middle;\n",
       "    }\n",
       "\n",
       "    .dataframe tbody tr th {\n",
       "        vertical-align: top;\n",
       "    }\n",
       "\n",
       "    .dataframe thead th {\n",
       "        text-align: right;\n",
       "    }\n",
       "</style>\n",
       "<table border=\"1\" class=\"dataframe\">\n",
       "  <thead>\n",
       "    <tr style=\"text-align: right;\">\n",
       "      <th></th>\n",
       "      <th>mean_fare</th>\n",
       "    </tr>\n",
       "    <tr>\n",
       "      <th>Survived</th>\n",
       "      <th></th>\n",
       "    </tr>\n",
       "  </thead>\n",
       "  <tbody>\n",
       "    <tr>\n",
       "      <th>0</th>\n",
       "      <td>22.117887</td>\n",
       "    </tr>\n",
       "    <tr>\n",
       "      <th>1</th>\n",
       "      <td>48.395408</td>\n",
       "    </tr>\n",
       "  </tbody>\n",
       "</table>\n",
       "</div>"
      ],
      "text/plain": [
       "          mean_fare\n",
       "Survived           \n",
       "0         22.117887\n",
       "1         48.395408"
      ]
     },
     "execution_count": 31,
     "metadata": {},
     "output_type": "execute_result"
    }
   ],
   "source": [
    "df.groupby('Survived').agg(mean_fare=('Fare', 'mean'))"
   ]
  },
  {
   "cell_type": "markdown",
   "id": "3bg9p-K2v-pc",
   "metadata": {
    "id": "3bg9p-K2v-pc"
   },
   "source": [
    "Средняя стоимость билета выживших чуть более, чем в два раза выше, чем у умерших."
   ]
  },
  {
   "cell_type": "markdown",
   "id": "c41d5d99-65f7-4d17-82ae-971ec959f327",
   "metadata": {
    "id": "c41d5d99-65f7-4d17-82ae-971ec959f327"
   },
   "source": [
    "9. Выведите максимальный и минимальный возраст выживших пассажиров во 2 классе обслуживания"
   ]
  },
  {
   "cell_type": "code",
   "execution_count": 32,
   "id": "275bcc04-659b-4521-a9e5-200a5f4ef674",
   "metadata": {
    "colab": {
     "base_uri": "https://localhost:8080/",
     "height": 147
    },
    "executionInfo": {
     "elapsed": 3,
     "status": "ok",
     "timestamp": 1744717768417,
     "user": {
      "displayName": "Pavel Boykov",
      "userId": "06328896898340269474"
     },
     "user_tz": -180
    },
    "id": "275bcc04-659b-4521-a9e5-200a5f4ef674",
    "outputId": "8dbabe69-c49e-4043-d2c7-43f1d45dcf98"
   },
   "outputs": [
    {
     "data": {
      "text/plain": [
       "min     0.67\n",
       "max    62.00\n",
       "Name: Pclass-2 survivor age, dtype: float64"
      ]
     },
     "execution_count": 32,
     "metadata": {},
     "output_type": "execute_result"
    }
   ],
   "source": [
    "df[(df['Survived'] == True) & (df['Pclass'] == 2)]['Age'].rename('Pclass-2 survivor age').aggregate(['min', 'max'])"
   ]
  },
  {
   "cell_type": "markdown",
   "id": "a1f7a5c0-259c-4837-a5d1-2dfc05e7c13e",
   "metadata": {
    "id": "a1f7a5c0-259c-4837-a5d1-2dfc05e7c13e"
   },
   "source": [
    "10. Подтвердите или опровергните гипотезу: молодым мужчинам(от 18 лет) выжить легче, чем более взрослым"
   ]
  },
  {
   "cell_type": "code",
   "execution_count": null,
   "id": "a2da4d57-edb4-4179-8bee-3deda6cd00e6",
   "metadata": {
    "colab": {
     "base_uri": "https://localhost:8080/",
     "height": 175
    },
    "executionInfo": {
     "elapsed": 32,
     "status": "ok",
     "timestamp": 1744717803125,
     "user": {
      "displayName": "Pavel Boykov",
      "userId": "06328896898340269474"
     },
     "user_tz": -180
    },
    "id": "a2da4d57-edb4-4179-8bee-3deda6cd00e6",
    "outputId": "ae691320-045e-46ca-caf6-8aa0d8c63a59"
   },
   "outputs": [
    {
     "data": {
      "text/html": [
       "<div>\n",
       "<style scoped>\n",
       "    .dataframe tbody tr th:only-of-type {\n",
       "        vertical-align: middle;\n",
       "    }\n",
       "\n",
       "    .dataframe tbody tr th {\n",
       "        vertical-align: top;\n",
       "    }\n",
       "\n",
       "    .dataframe thead th {\n",
       "        text-align: right;\n",
       "    }\n",
       "</style>\n",
       "<table border=\"1\" class=\"dataframe\">\n",
       "  <thead>\n",
       "    <tr style=\"text-align: right;\">\n",
       "      <th></th>\n",
       "      <th>male_survivors_cnt</th>\n",
       "      <th>male_survival_rate</th>\n",
       "    </tr>\n",
       "    <tr>\n",
       "      <th>AgeRange</th>\n",
       "      <th></th>\n",
       "      <th></th>\n",
       "    </tr>\n",
       "  </thead>\n",
       "  <tbody>\n",
       "    <tr>\n",
       "      <th>18-29</th>\n",
       "      <td>28</td>\n",
       "      <td>0.156425</td>\n",
       "    </tr>\n",
       "    <tr>\n",
       "      <th>30-49</th>\n",
       "      <td>35</td>\n",
       "      <td>0.213415</td>\n",
       "    </tr>\n",
       "    <tr>\n",
       "      <th>50+</th>\n",
       "      <td>7</td>\n",
       "      <td>0.134615</td>\n",
       "    </tr>\n",
       "    <tr>\n",
       "      <th>nan</th>\n",
       "      <td>272</td>\n",
       "      <td>0.548387</td>\n",
       "    </tr>\n",
       "  </tbody>\n",
       "</table>\n",
       "</div>"
      ],
      "text/plain": [
       "          male_survivors_cnt  male_survival_rate\n",
       "AgeRange                                        \n",
       "18-29                     28            0.156425\n",
       "30-49                     35            0.213415\n",
       "50+                        7            0.134615\n",
       "nan                      272            0.548387"
      ]
     },
     "execution_count": 33,
     "metadata": {},
     "output_type": "execute_result"
    }
   ],
   "source": [
    "df2 = df.copy(True)\n",
    "df2.loc[(df2['Sex'] == 'male') & (df2['Age'] >= 18) & (df2['Age'] < 30), 'AgeRange'] = '18-29'\n",
    "df2.loc[(df2['Sex'] == 'male') & (df2['Age'] >= 30) & (df2['Age'] < 50), 'AgeRange'] = '30-49'\n",
    "df2.loc[(df2['Sex'] == 'male') & (df2['Age'] >= 50), 'AgeRange'] = '50+'\n",
    "df2.groupby('AgeRange').agg(male_survivors_cnt=('Survived', 'sum'), male_survival_rate=('Survived', 'mean'))"
   ]
  },
  {
   "cell_type": "markdown",
   "id": "wCLbFg3mzrHa",
   "metadata": {
    "id": "wCLbFg3mzrHa"
   },
   "source": [
    "Доля выживших среди молодых и старых мужчин немного меньше, чем среди средневозрастных. Гипотеза опровергнута."
   ]
  },
  {
   "cell_type": "markdown",
   "id": "deb4ca3a-3d8a-4205-bee9-d26fd28638b2",
   "metadata": {
    "id": "deb4ca3a-3d8a-4205-bee9-d26fd28638b2"
   },
   "source": [
    "### 3. Визуализация"
   ]
  },
  {
   "cell_type": "markdown",
   "id": "f8941ce1-cbf2-465a-b013-1b84aeb999ef",
   "metadata": {
    "id": "f8941ce1-cbf2-465a-b013-1b84aeb999ef"
   },
   "source": [
    "Используя библиотеки matplotlib/sns/plotly/pandas и набор данных представленный ранее визуализируйте"
   ]
  },
  {
   "cell_type": "code",
   "execution_count": 34,
   "id": "_dUtk0hdn-ti",
   "metadata": {
    "id": "_dUtk0hdn-ti"
   },
   "outputs": [],
   "source": [
    "import matplotlib.pyplot as plt\n",
    "import seaborn as sns"
   ]
  },
  {
   "cell_type": "markdown",
   "id": "5e98ce6f-8d02-4120-ad85-241494c038d6",
   "metadata": {
    "id": "5e98ce6f-8d02-4120-ad85-241494c038d6"
   },
   "source": [
    "1. Постройте гистограмму распределения возрастов пассажиров"
   ]
  },
  {
   "cell_type": "code",
   "execution_count": 35,
   "id": "664666b2-17b7-49dd-a3bd-c4be9361755d",
   "metadata": {
    "colab": {
     "base_uri": "https://localhost:8080/",
     "height": 472
    },
    "executionInfo": {
     "elapsed": 184,
     "status": "ok",
     "timestamp": 1743971615644,
     "user": {
      "displayName": "Pavel Boykov",
      "userId": "06328896898340269474"
     },
     "user_tz": -180
    },
    "id": "664666b2-17b7-49dd-a3bd-c4be9361755d",
    "outputId": "0a44557e-1454-44c0-c108-c414e30c83e6"
   },
   "outputs": [
    {
     "data": {
      "image/png": "[encoded data removed]",
      "text/plain": [
       "<Figure size 640x480 with 1 Axes>"
      ]
     },
     "metadata": {},
     "output_type": "display_data"
    }
   ],
   "source": [
    "plt.hist(df['Age'].values, edgecolor='black', bins=8)\n",
    "plt.title('Age distribution')\n",
    "plt.xlabel('Age')\n",
    "plt.ylabel('Human count')\n",
    "plt.show()"
   ]
  },
  {
   "cell_type": "markdown",
   "id": "4c7500bb-36ca-4ea7-bc3c-4f15afbd4c41",
   "metadata": {
    "id": "4c7500bb-36ca-4ea7-bc3c-4f15afbd4c41"
   },
   "source": [
    "2. Постройте гистограммы распределения цен для пассажиров разных классов"
   ]
  },
  {
   "cell_type": "code",
   "execution_count": null,
   "id": "7325e7f8-5f00-4a82-8184-7064505f7ccd",
   "metadata": {
    "colab": {
     "base_uri": "https://localhost:8080/",
     "height": 449
    },
    "executionInfo": {
     "elapsed": 395,
     "status": "ok",
     "timestamp": 1743971619701,
     "user": {
      "displayName": "Pavel Boykov",
      "userId": "06328896898340269474"
     },
     "user_tz": -180
    },
    "id": "7325e7f8-5f00-4a82-8184-7064505f7ccd",
    "outputId": "ebed61e7-11c1-45f9-d2bf-22e11b4fd759"
   },
   "outputs": [
    {
     "data": {
      "image/png": "[encoded data removed]",
      "text/plain": [
       "<Figure size 1600x480 with 3 Axes>"
      ]
     },
     "metadata": {},
     "output_type": "display_data"
    }
   ],
   "source": [
    "df1 = df[df['Pclass'] == 1]['Fare']\n",
    "df2 = df[df['Pclass'] == 2]['Fare']\n",
    "df3 = df[df['Pclass'] == 3]['Fare']\n",
    "\n",
    "fig, axes = plt.subplots(nrows=1, ncols=3)\n",
    "fig.set_figwidth(16)\n",
    "\n",
    "bins3 = np.arange(0, df3.max() + 10, 10)\n",
    "axes[0].hist(df3, color='blue', edgecolor='black', label='Pclass-3', bins=bins3)\n",
    "axes[0].set_xticks(bins3)\n",
    "\n",
    "bins2 = np.arange(0, df2.max() + 10, 10)\n",
    "axes[1].hist(df2, color='green', edgecolor='black', label='Pclass-2', bins=bins2)\n",
    "axes[1].set_xticks(bins2)\n",
    "\n",
    "bins1 = np.arange(0, df1.max() + 50, 50)\n",
    "axes[2].hist(df1, color='red', edgecolor='black', label='Pclass-1', bins=bins1)\n",
    "axes[2].set_xticks(bins1)\n",
    "\n",
    "for ax in axes:\n",
    "  ax.set_xlabel('Fare')\n",
    "  ax.set_ylabel('Count')\n",
    "  ax.legend()\n",
    "\n",
    "plt.show()"
   ]
  },
  {
   "cell_type": "markdown",
   "id": "efdd0669-36e0-4708-ac6b-ad0d92881113",
   "metadata": {
    "id": "efdd0669-36e0-4708-ac6b-ad0d92881113"
   },
   "source": [
    "3. Постройте зависимость цены от возраста пассажира"
   ]
  },
  {
   "cell_type": "code",
   "execution_count": 37,
   "id": "7504a170-04a1-4b86-924d-8d46be16fd3c",
   "metadata": {
    "colab": {
     "base_uri": "https://localhost:8080/",
     "height": 449
    },
    "executionInfo": {
     "elapsed": 249,
     "status": "ok",
     "timestamp": 1743971622385,
     "user": {
      "displayName": "Pavel Boykov",
      "userId": "06328896898340269474"
     },
     "user_tz": -180
    },
    "id": "7504a170-04a1-4b86-924d-8d46be16fd3c",
    "outputId": "2791895d-1938-4beb-91a4-af510357ee0d"
   },
   "outputs": [
    {
     "data": {
      "image/png": "[encoded data removed]",
      "text/plain": [
       "<Figure size 640x480 with 1 Axes>"
      ]
     },
     "metadata": {},
     "output_type": "display_data"
    }
   ],
   "source": [
    "df2 = df[['Fare', 'Age']].dropna()\n",
    "fares = df2['Fare']\n",
    "ages = df2['Age']\n",
    "plt.scatter(ages, fares, alpha=0.5)\n",
    "\n",
    "p = np.poly1d(np.polyfit(ages.values, fares.values, 1))\n",
    "plt.plot(ages, p(ages), \"r--\", label='Trend line')\n",
    "\n",
    "plt.xlabel('Age')\n",
    "plt.ylabel('Fare')\n",
    "\n",
    "plt.grid(True)\n",
    "plt.legend()\n",
    "plt.show()"
   ]
  },
  {
   "cell_type": "markdown",
   "id": "b5839a48-e992-45fc-81ee-59cb5aa79dda",
   "metadata": {
    "id": "b5839a48-e992-45fc-81ee-59cb5aa79dda"
   },
   "source": [
    "4. Постройте box plot отображающий распределение цен на билеты в разных классах"
   ]
  },
  {
   "cell_type": "code",
   "execution_count": 39,
   "id": "1a942378-45ea-47a0-bac9-488960491613",
   "metadata": {
    "colab": {
     "base_uri": "https://localhost:8080/",
     "height": 843
    },
    "executionInfo": {
     "elapsed": 306,
     "status": "ok",
     "timestamp": 1743971632964,
     "user": {
      "displayName": "Pavel Boykov",
      "userId": "06328896898340269474"
     },
     "user_tz": -180
    },
    "id": "1a942378-45ea-47a0-bac9-488960491613",
    "outputId": "30d3d14e-d2b9-4323-a445-fb1945be9dc7"
   },
   "outputs": [
    {
     "data": {
      "image/png": "[encoded data removed]",
      "text/plain": [
       "<Figure size 640x480 with 1 Axes>"
      ]
     },
     "metadata": {},
     "output_type": "display_data"
    },
    {
     "data": {
      "image/png": "[encoded data removed]",
      "text/plain": [
       "<Figure size 1600x480 with 3 Axes>"
      ]
     },
     "metadata": {},
     "output_type": "display_data"
    }
   ],
   "source": [
    "df1 = df[df['Pclass'] == 1]['Fare']\n",
    "df2 = df[df['Pclass'] == 2]['Fare']\n",
    "df3 = df[df['Pclass'] == 3]['Fare']\n",
    "\n",
    "plt.boxplot([df3, df2, df1], labels=['Pclass-3', 'Pclass-2', 'Pclass-1'])\n",
    "plt.show()\n",
    "\n",
    "fig, axes = plt.subplots(nrows=1, ncols=3)\n",
    "fig.set_figwidth(16)\n",
    "\n",
    "axes[0].boxplot(df3, labels=['Pclass-3'])\n",
    "axes[1].boxplot(df2, labels=['Pclass-2'])\n",
    "axes[2].boxplot(df1, labels=['Pclass-1'])\n",
    "\n",
    "for ax in axes:\n",
    "  ax.set_ylabel('Fare')\n",
    "\n",
    "plt.show()"
   ]
  },
  {
   "cell_type": "markdown",
   "id": "d4c97bef-bb64-43cc-a89f-7510174492ec",
   "metadata": {
    "id": "d4c97bef-bb64-43cc-a89f-7510174492ec"
   },
   "source": [
    "5. Визуализируйте распределение долей выживших среди мужчин, женщин и детей(до 16 лет)"
   ]
  },
  {
   "cell_type": "code",
   "execution_count": 41,
   "id": "a1f444af-3544-432c-8dc6-bb74d4cff272",
   "metadata": {
    "colab": {
     "base_uri": "https://localhost:8080/",
     "height": 406
    },
    "executionInfo": {
     "elapsed": 136,
     "status": "ok",
     "timestamp": 1743971638073,
     "user": {
      "displayName": "Pavel Boykov",
      "userId": "06328896898340269474"
     },
     "user_tz": -180
    },
    "id": "a1f444af-3544-432c-8dc6-bb74d4cff272",
    "outputId": "671c651d-2468-463f-9d61-ba0c178de0de"
   },
   "outputs": [
    {
     "data": {
      "image/png": "[encoded data removed]",
      "text/plain": [
       "<Figure size 640x480 with 1 Axes>"
      ]
     },
     "metadata": {},
     "output_type": "display_data"
    }
   ],
   "source": [
    "df2 = df[df['Survived'] == True]\n",
    "maleCnt   = df2[(df2['Age'] >= 16) & (df2['Sex'] ==   'male')]['PassengerId'].count()\n",
    "femaleCnt = df2[(df2['Age'] >= 16) & (df2['Sex'] == 'female')]['PassengerId'].count()\n",
    "childCnt  = df2[(df2['Age'] <  16)]['PassengerId'].count()\n",
    "\n",
    "cnts = [maleCnt, femaleCnt, childCnt]\n",
    "\n",
    "plt.pie(cnts, labels=['male','female','child'], autopct='%.2f%%')\n",
    "plt.show()"
   ]
  },
  {
   "cell_type": "markdown",
   "id": "16249674-e680-4ab0-a16a-4e98c24202ed",
   "metadata": {
    "id": "16249674-e680-4ab0-a16a-4e98c24202ed"
   },
   "source": [
    "6. Сравните плотности распределения возрастов выживших и умерших пассажиров, сделайте выводы"
   ]
  },
  {
   "cell_type": "code",
   "execution_count": 42,
   "id": "5d1f5e09-3f97-45ad-87f8-c9796cc214db",
   "metadata": {
    "colab": {
     "base_uri": "https://localhost:8080/",
     "height": 472
    },
    "executionInfo": {
     "elapsed": 291,
     "status": "ok",
     "timestamp": 1743971641446,
     "user": {
      "displayName": "Pavel Boykov",
      "userId": "06328896898340269474"
     },
     "user_tz": -180
    },
    "id": "5d1f5e09-3f97-45ad-87f8-c9796cc214db",
    "outputId": "df192878-a93c-4c04-c6fe-4ac09444b6b3"
   },
   "outputs": [
    {
     "data": {
      "image/png": "[encoded data removed]",
      "text/plain": [
       "<Figure size 640x480 with 1 Axes>"
      ]
     },
     "metadata": {},
     "output_type": "display_data"
    }
   ],
   "source": [
    "survived_age = df[df['Survived'] ==  True]['Age']\n",
    "deceaced_age = df[df['Survived'] == False]['Age']\n",
    "\n",
    "sns.kdeplot(survived_age, fill=True, label='Survived', cut=0)\n",
    "sns.kdeplot(deceaced_age, fill=True, label='Deceased', cut=0)\n",
    "\n",
    "plt.title('Age distribution density')\n",
    "plt.xlabel('Age')\n",
    "plt.ylabel('Density')\n",
    "plt.xticks(np.arange(0, 90, 10))\n",
    "plt.grid(True)\n",
    "plt.legend()\n",
    "plt.show()"
   ]
  },
  {
   "cell_type": "markdown",
   "id": "MStaL3Bsjfoe",
   "metadata": {
    "id": "MStaL3Bsjfoe"
   },
   "source": [
    "Из плотности распределения возрастов видно, что дети составляют большую долю среди выживших, чем среди умерших. Среди же людей в возрасте от 20 до 30 лет и от 60 до 75 наблюдается обратная тенденция."
   ]
  },
  {
   "cell_type": "markdown",
   "id": "16afdeec-8c90-4ed1-a599-e0b1343bbf5c",
   "metadata": {
    "id": "16afdeec-8c90-4ed1-a599-e0b1343bbf5c"
   },
   "source": [
    "7. Постройте круговую диаграмму отображающую выживаемость мужчин и женщин в разных классах обслуживания(визуализация должна быть интуитивно понятная без объяснений, женщины и мужчины соответствующих классов объеденены визуально в одну группу и 2 подгруппы)*\n",
    "\n",
    "\\* Задание на доп. балл"
   ]
  },
  {
   "cell_type": "code",
   "execution_count": 43,
   "id": "e10d0cc7-a1ca-4204-a875-b1660e44618d",
   "metadata": {
    "colab": {
     "base_uri": "https://localhost:8080/",
     "height": 435
    },
    "executionInfo": {
     "elapsed": 176,
     "status": "ok",
     "timestamp": 1744715962582,
     "user": {
      "displayName": "Pavel Boykov",
      "userId": "06328896898340269474"
     },
     "user_tz": -180
    },
    "id": "e10d0cc7-a1ca-4204-a875-b1660e44618d",
    "outputId": "12798b02-7ab3-47f2-ce0a-100e20d7bee5"
   },
   "outputs": [
    {
     "data": {
      "image/png": "[encoded data removed]",
      "text/plain": [
       "<Figure size 640x480 with 1 Axes>"
      ]
     },
     "metadata": {},
     "output_type": "display_data"
    }
   ],
   "source": [
    "df1 = df[df['Pclass'] == 1]\n",
    "df2 = df[df['Pclass'] == 2]\n",
    "df3 = df[df['Pclass'] == 3]\n",
    "\n",
    "data1 = [df1['PassengerId'].count(), df2['PassengerId'].count(), df3['PassengerId'].count()]\n",
    "data2 = [\n",
    "    df1[df1['Sex'] == 'male']['PassengerId'].count(), df1[df1['Sex'] == 'female']['PassengerId'].count(),\n",
    "    df2[df2['Sex'] == 'male']['PassengerId'].count(), df2[df2['Sex'] == 'female']['PassengerId'].count(),\n",
    "    df3[df3['Sex'] == 'male']['PassengerId'].count(), df3[df3['Sex'] == 'female']['PassengerId'].count(),\n",
    "]\n",
    "\n",
    "cmap = plt.colormaps[\"tab20c\"]\n",
    "colors1 = cmap([6, 10, 14])\n",
    "colors2 = cmap([4, 5, 8, 9, 12, 13])\n",
    "\n",
    "plt.pie(data1, labels=['Pclass-1', 'Pclass-2', 'Pclass-3'], labeldistance=0.55, radius=0.85, wedgeprops=dict(width=0.5), colors=colors1)\n",
    "plt.pie(data2, labels=np.tile(['male', 'female'], 3), radius=1.3, wedgeprops=dict(width=0.4), colors=colors2, autopct=\"%0.2f%%\", pctdistance=0.85)\n",
    "\n",
    "plt.show()"
   ]
  }
 ],
 "metadata": {
  "colab": {
   "provenance": []
  },
  "kernelspec": {
   "display_name": "Python 3",
   "name": "python3"
  },
  "language_info": {
   "codemirror_mode": {
    "name": "ipython",
    "version": 3
   },
   "file_extension": ".py",
   "mimetype": "text/x-python",
   "name": "python",
   "nbconvert_exporter": "python",
   "pygments_lexer": "ipython3",
   "version": "3.12.3"
  }
 },
 "nbformat": 4,
 "nbformat_minor": 5
}
